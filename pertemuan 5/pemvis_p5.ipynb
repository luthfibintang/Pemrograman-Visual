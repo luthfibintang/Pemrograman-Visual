{
  "nbformat": 4,
  "nbformat_minor": 0,
  "metadata": {
    "colab": {
      "provenance": []
    },
    "kernelspec": {
      "name": "python3",
      "display_name": "Python 3"
    },
    "language_info": {
      "name": "python"
    }
  },
  "cells": [
    {
      "cell_type": "markdown",
      "source": [
        "Nama : Azisya Luthfi Bintang\n",
        "\n",
        "NIM : 2022071051"
      ],
      "metadata": {
        "id": "Xfy3rWBhIwNz"
      }
    },
    {
      "cell_type": "code",
      "execution_count": null,
      "metadata": {
        "colab": {
          "base_uri": "https://localhost:8080/"
        },
        "id": "PN5Cn0BA5BRb",
        "outputId": "0c051f17-a393-4203-9b29-d26627cf5372"
      },
      "outputs": [
        {
          "output_type": "stream",
          "name": "stdout",
          "text": [
            "\u001b\n",
            "Tipe data set_1 adalah :  <class 'set'>\n",
            "Tipe data set_2 adalah :  <class 'tuple'>\n",
            "-----------------------------------------\n",
            "Toyota\n",
            "Honda\n",
            "Daihatsu\n",
            "-----------------------------------------\n",
            "3\n",
            "Yes, 'daihatsu' is an item in set_1\n",
            "{'Toyota', 'Mitsubishi', 'Honda', 'Daihatsu'}\n",
            "{'Mazda', 'Suzuki', 'Honda', 'Daihatsu', 'Toyota', 'Nissan', 'Mitsubishi'}\n"
          ]
        }
      ],
      "source": [
        "#Sets Part 1\n",
        "print(\"\\033\")\n",
        "\n",
        "set_1 = {\"Toyota\", \"Daihatsu\", \"Honda\"}\n",
        "set_2 = ((\"Toyota\", \"Daihatsu\", \"Honda\"))\n",
        "print(\"Tipe data set_1 adalah : \", type(set_1))\n",
        "print(\"Tipe data set_2 adalah : \", type(set_2))\n",
        "print(\"-----------------------------------------\")\n",
        "\n",
        "for x in set_1:\n",
        "  print(x)\n",
        "print(\"-----------------------------------------\")\n",
        "\n",
        "print(len(set_1))\n",
        "\n",
        "if \"Daihatsu\" in set_1:\n",
        "  print(\"Yes, 'daihatsu' is an item in set_1\")\n",
        "\n",
        "set_1.add(\"Mitsubishi\")\n",
        "print(set_1)\n",
        "\n",
        "set_1.update([\"Suzuki\", \"Mazda\", \"Nissan\"])\n",
        "print(set_1)"
      ]
    },
    {
      "cell_type": "code",
      "source": [
        "# Sets Part 2\n",
        "\n",
        "set_1.remove(\"Honda\")\n",
        "print(set_1)\n",
        "\n",
        "set_1.discard(\"Mazda\")\n",
        "print(set_1)\n",
        "\n",
        "set_1.pop()\n",
        "print(set_1)\n",
        "\n",
        "del set_1\n",
        "print(\"-----------------------------------------\")\n",
        "\n",
        "set1 = {\"a\", \"b\", \"c\"}\n",
        "set2 = {1, 2, 3}\n",
        "set3 = set1.union(set2)\n",
        "print(set3)\n",
        "print(\"-----------------------------------------\")\n",
        "\n",
        "set1 = {\"a\", \"b\", \"c\"}\n",
        "set2 = {1, 2, 3}\n",
        "set3 = set1.union(set2)\n",
        "print(set1)"
      ],
      "metadata": {
        "id": "l9I4uecJ6leA"
      },
      "execution_count": null,
      "outputs": []
    },
    {
      "cell_type": "code",
      "source": [
        "# Boolean Part 1\n",
        "print(\"Case 1\")\n",
        "f = bool(True)\n",
        "g = bool(False)\n",
        "print(f)\n",
        "print(g)\n",
        "print(\"-----------------------------------------\")\n",
        "\n",
        "print(\"Case 2\")\n",
        "print(3>2)\n",
        "print(3+2==5)\n",
        "print(3<2)\n",
        "print(\"-----------------------------------------\")\n",
        "\n",
        "print(\"Case 3\")\n",
        "penghasilan = 20000000\n",
        "penghasilanTanpaPajak = 4000000\n",
        "if penghasilan <= penghasilanTanpaPajak:\n",
        "  pajakYangHarusDibayar = 0\n",
        "if penghasilan > penghasilanTanpaPajak:\n",
        "  pajakYangHarusDibayar = 0.1 * penghasilan\n",
        "print(\"Pajak yang harus Anda bayar : Rp. \", pajakYangHarusDibayar)"
      ],
      "metadata": {
        "colab": {
          "base_uri": "https://localhost:8080/"
        },
        "id": "2lt8JHco-_bf",
        "outputId": "c5a3b313-bc54-45d6-d914-708f04db0a29"
      },
      "execution_count": null,
      "outputs": [
        {
          "output_type": "stream",
          "name": "stdout",
          "text": [
            "Case 1\n",
            "True\n",
            "False\n",
            "-----------------------------------------\n",
            "Case 2\n",
            "True\n",
            "True\n",
            "False\n",
            "-----------------------------------------\n",
            "Case 3\n",
            "Pajak yang harus Anda bayar : Rp.  2000000.0\n"
          ]
        }
      ]
    },
    {
      "cell_type": "code",
      "source": [
        "#part 2\n",
        "print(\"Case 4\")\n",
        "a = 3\n",
        "b = \"Ini data string.\"\n",
        "c = (\"laptop\", \"buku\", \"ballpen\")\n",
        "d = [\"laptop\", \"buku\", \"ballpen\"]\n",
        "e = {\"laptop\" : \"asus\", \"buku\" :\"buku_teks\", \"ballpen\" : \"arrow\"}\n",
        "f = {1, 2, 3, 4, 5}\n",
        "\n",
        "print(bool(a))\n",
        "print(bool(b))\n",
        "print(bool(c))\n",
        "print(bool(d))\n",
        "print(bool(e))\n",
        "print(bool(f))\n",
        "print(\"-----------------------------------------\")"
      ],
      "metadata": {
        "colab": {
          "base_uri": "https://localhost:8080/"
        },
        "id": "GZWPCYiiAEJO",
        "outputId": "ce9bf483-2df7-406b-f886-44cacdf4b995"
      },
      "execution_count": null,
      "outputs": [
        {
          "output_type": "stream",
          "name": "stdout",
          "text": [
            "Case 4\n",
            "True\n",
            "True\n",
            "True\n",
            "True\n",
            "True\n",
            "True\n",
            "-----------------------------------------\n"
          ]
        }
      ]
    },
    {
      "cell_type": "code",
      "source": [
        "# part 3\n",
        "print(\"Case 5\")\n",
        "\n",
        "a = 0\n",
        "b = \"\"\n",
        "c = ()\n",
        "d = []\n",
        "e = {}\n",
        "\n",
        "print(bool(a))\n",
        "print(bool(b))\n",
        "print(bool(c))\n",
        "print(bool(d))\n",
        "print(bool(e))\n",
        "print(bool(f))\n",
        "print(\"-----------------------------------------\")\n",
        "\n",
        "print(\"Case 6\")\n",
        "class myClass():\n",
        "  def __len__(self):\n",
        "    return 0\n",
        "print(bool(myClass()))\n",
        "print(\"-----------------------------------------\")"
      ],
      "metadata": {
        "colab": {
          "base_uri": "https://localhost:8080/"
        },
        "id": "mSs7bFBgAo4K",
        "outputId": "df0077ee-76d1-4e64-bc2f-252ece54361f"
      },
      "execution_count": null,
      "outputs": [
        {
          "output_type": "stream",
          "name": "stdout",
          "text": [
            "Case 5\n",
            "False\n",
            "False\n",
            "False\n",
            "False\n",
            "False\n",
            "True\n",
            "-----------------------------------------\n",
            "Case 6\n",
            "False\n",
            "-----------------------------------------\n"
          ]
        }
      ]
    },
    {
      "cell_type": "code",
      "source": [
        "# Latihan program dengna melibatkan data berjenis sets dn juga boolean\n",
        "def linearSearch(nset, item):\n",
        "  found = False\n",
        "  for element in nset:\n",
        "    if element == item:\n",
        "      found = True # Akan true kalo ketemu\n",
        "\n",
        "  return found  # tinggal di balikin aja dah\n",
        "\n",
        "list = {'y', 'u', 'i', 'w', 'o', 'a', 'q', 'u', 'j', 'p'}\n",
        "print(linearSearch(list, 'a'))\n",
        "print(linearSearch(list, 'x'))"
      ],
      "metadata": {
        "colab": {
          "base_uri": "https://localhost:8080/"
        },
        "id": "3hrGc6yBBRgj",
        "outputId": "4de2d0fc-bc1a-427f-90a2-7d842a0f0132"
      },
      "execution_count": null,
      "outputs": [
        {
          "output_type": "stream",
          "name": "stdout",
          "text": [
            "True\n",
            "False\n"
          ]
        }
      ]
    }
  ]
}